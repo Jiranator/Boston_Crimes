{
 "cells": [
  {
   "cell_type": "code",
   "execution_count": null,
   "metadata": {},
   "outputs": [],
   "source": [
    "# Load libraries\n",
    "import numpy as np\n",
    "import pandas as pd\n",
    "import matplotlib.pyplot as plt\n",
    "%matplotlib inline\n",
    "import seaborn as sns\n",
    "from scipy.stats import ttest_1samp\n",
    "from sklearn.linear_model import LinearRegression"
   ]
  },
  {
   "cell_type": "code",
   "execution_count": null,
   "metadata": {
    "scrolled": false
   },
   "outputs": [],
   "source": [
    "# Import data and summary\n",
    "data = pd.read_csv('crime.csv', encoding='latin-1')\n",
    "data.head()"
   ]
  },
  {
   "cell_type": "code",
   "execution_count": null,
   "metadata": {},
   "outputs": [],
   "source": [
    "#Data Grooming for NaN Values in Shooting\n",
    "data.SHOOTING.fillna('N', inplace=True)"
   ]
  },
  {
   "cell_type": "code",
   "execution_count": null,
   "metadata": {},
   "outputs": [],
   "source": [
    "#Time of the data when the most amount of crimes happen\n",
    "sns.catplot(x='HOUR',\n",
    "           kind='count',\n",
    "            height=8.27, \n",
    "            aspect=3,\n",
    "           data=data)\n",
    "plt.xticks(size=30)\n",
    "plt.yticks(size=30)\n",
    "plt.xlabel('Hour', fontsize=40)\n",
    "plt.ylabel('Count', fontsize=40)"
   ]
  },
  {
   "cell_type": "code",
   "execution_count": null,
   "metadata": {},
   "outputs": [],
   "source": [
    "#Day of the week when the most happen\n",
    "sns.catplot(x='DAY_OF_WEEK',\n",
    "           kind='count',\n",
    "            height=8.27, \n",
    "            aspect=3,\n",
    "           data=data)\n",
    "plt.xticks(size=30)\n",
    "plt.yticks(size=30)\n",
    "plt.xlabel('Day of the Week', fontsize=40)\n",
    "plt.ylabel('Count', fontsize=40)"
   ]
  },
  {
   "cell_type": "code",
   "execution_count": null,
   "metadata": {},
   "outputs": [],
   "source": [
    "#Day of the week when the most happen\n",
    "sns.catplot(x='MONTH',\n",
    "           kind='count',\n",
    "            height=8.27, \n",
    "            aspect=3,\n",
    "           data=data)\n",
    "plt.xticks(size=30)\n",
    "plt.yticks(size=30)\n",
    "plt.xlabel('Month', fontsize=40)\n",
    "plt.ylabel('Count', fontsize=40)"
   ]
  },
  {
   "cell_type": "code",
   "execution_count": null,
   "metadata": {},
   "outputs": [],
   "source": [
    "sns.catplot(y='OFFENSE_CODE_GROUP',\n",
    "           kind='count',\n",
    "            height=10, \n",
    "            aspect=1.5,\n",
    "            order=data.OFFENSE_CODE_GROUP.value_counts().index,\n",
    "           data=data)"
   ]
  },
  {
   "cell_type": "code",
   "execution_count": null,
   "metadata": {},
   "outputs": [],
   "source": [
    "sns.catplot(y='SHOOTING',\n",
    "           kind='count',\n",
    "            height=8, \n",
    "            aspect=1.5,\n",
    "            order=data.SHOOTING.value_counts().index,\n",
    "           data=data)"
   ]
  },
  {
   "cell_type": "code",
   "execution_count": null,
   "metadata": {},
   "outputs": [],
   "source": [
    "X = len(data.MONTH)\n",
    "Z = np.random.normal(size = X)\n",
    "# method 1\n",
    "H,X1 = np.histogram( Z, bins = 10, normed = True )\n",
    "dx = X1[1] - X1[0]\n",
    "F1 = np.cumsum(H)*dx\n",
    "#method 2\n",
    "X2 = np.sort(Z)\n",
    "F2 = np.array(range(X))/float(X)\n",
    "\n",
    "plt.plot(X1[1:], F1)\n",
    "plt.plot(X2, F2)\n",
    "plt.show()"
   ]
  },
  {
   "cell_type": "code",
   "execution_count": null,
   "metadata": {},
   "outputs": [],
   "source": [
    "\n",
    "plt.scatter('HOUR', 'SHOOTING')\n",
    "plt.xlabel('HOUR')\n",
    "plt.ylabel('SHOOTING')\n",
    "plt.title('Price variation based on car body type')"
   ]
  },
  {
   "cell_type": "code",
   "execution_count": null,
   "metadata": {},
   "outputs": [],
   "source": [
    "sns.pairplot(data)"
   ]
  },
  {
   "cell_type": "code",
   "execution_count": null,
   "metadata": {},
   "outputs": [],
   "source": [
    "\n",
    "data_mean = np.mean('MONTH')\n",
    "print(data_mean)\n",
    "tset, pval = ttest_1samp('MONTH', 7)\n",
    "print('p-values',pval)\n",
    "#95% confidence interval\n",
    "if pval < 0.05:    # alpha value is 0.05 or 5%\n",
    "   print(\"rejecting\")\n",
    "else:\n",
    "  print(\"accepting\")"
   ]
  },
  {
   "cell_type": "code",
   "execution_count": null,
   "metadata": {},
   "outputs": [],
   "source": [
    "data_mean = np.mean('DAY_OF_WEEK')\n",
    "print(data_mean)\n",
    "tset, pval = ttest_1samp('DAY_OF_WEEK', 'Saturday')\n",
    "print('p-values',pval)\n",
    "#95% confidence interval\n",
    "if pval < 0.05:    # alpha value is 0.05 or 5%\n",
    "   print(\"rejecting\")\n",
    "else:\n",
    "  print(\"accepting\")"
   ]
  },
  {
   "cell_type": "code",
   "execution_count": null,
   "metadata": {},
   "outputs": [],
   "source": [
    "data_mean = np.mean('HOUR')\n",
    "print(data_mean)\n",
    "tset, pval = ttest_1samp('HOUR', '15')\n",
    "print('p-values',pval)\n",
    "#95% confidence interval\n",
    "if pval < 0.05:    # alpha value is 0.05 or 5%\n",
    "   print(\"rejecting\")\n",
    "else:\n",
    "  print(\"accepting\")"
   ]
  },
  {
   "cell_type": "code",
   "execution_count": null,
   "metadata": {},
   "outputs": [],
   "source": [
    "MonthX = 'MONTH'.reshape((-1, 1))\n",
    "DayOFWeekY = 'DAY_OF_WEEK'.reshape((-1, 1))\n",
    "model = LinearRegression()\n",
    "model.fit(MonthX, DayOFWeekY)\n",
    "model = LinearRegression().fit(MonthX, DayOFWeekY)\n",
    "r_sq = model.score(MonthX, DayOFWeekY)\n",
    "print('coefficient of determination:', r_sq)"
   ]
  },
  {
   "cell_type": "code",
   "execution_count": null,
   "metadata": {},
   "outputs": [],
   "source": []
  }
 ],
 "metadata": {
  "kernelspec": {
   "display_name": "Python 3",
   "language": "python",
   "name": "python3"
  },
  "language_info": {
   "codemirror_mode": {
    "name": "ipython",
    "version": 3
   },
   "file_extension": ".py",
   "mimetype": "text/x-python",
   "name": "python",
   "nbconvert_exporter": "python",
   "pygments_lexer": "ipython3",
   "version": "3.7.3"
  }
 },
 "nbformat": 4,
 "nbformat_minor": 2
}
